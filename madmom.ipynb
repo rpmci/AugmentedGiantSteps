{
  "nbformat": 4,
  "nbformat_minor": 0,
  "metadata": {
    "colab": {
      "name": "madmom.ipynb",
      "provenance": [],
      "collapsed_sections": [],
      "include_colab_link": true
    },
    "kernelspec": {
      "name": "python3",
      "display_name": "Python 3"
    },
    "accelerator": "GPU"
  },
  "cells": [
    {
      "cell_type": "markdown",
      "metadata": {
        "id": "view-in-github",
        "colab_type": "text"
      },
      "source": [
        "<a href=\"https://colab.research.google.com/github/rpmci/AugmentedGiantSteps/blob/master/madmom.ipynb\" target=\"_parent\"><img src=\"https://colab.research.google.com/assets/colab-badge.svg\" alt=\"Open In Colab\"/></a>"
      ]
    },
    {
      "cell_type": "code",
      "metadata": {
        "id": "Q7kd8rWGgd7A",
        "colab_type": "code",
        "colab": {}
      },
      "source": [
        "!pip install ipython-autotime\n",
        "\n",
        "%load_ext autotime"
      ],
      "execution_count": null,
      "outputs": []
    },
    {
      "cell_type": "code",
      "metadata": {
        "id": "6QjhShXrc8nx",
        "colab_type": "code",
        "colab": {}
      },
      "source": [
        "!git clone https://github.com/rpmci/AugmentedGiantSteps.git"
      ],
      "execution_count": null,
      "outputs": []
    },
    {
      "cell_type": "code",
      "metadata": {
        "id": "lSu__TwDoqBF",
        "colab_type": "code",
        "colab": {}
      },
      "source": [
        "!git clone --recursive https://github.com/CPJKU/madmom.git"
      ],
      "execution_count": null,
      "outputs": []
    },
    {
      "cell_type": "code",
      "metadata": {
        "id": "7dq2xpSRkGZA",
        "colab_type": "code",
        "colab": {}
      },
      "source": [
        "cd madmom"
      ],
      "execution_count": null,
      "outputs": []
    },
    {
      "cell_type": "code",
      "metadata": {
        "id": "6Hztfi0DmARa",
        "colab_type": "code",
        "colab": {}
      },
      "source": [
        "!python setup.py develop --user"
      ],
      "execution_count": null,
      "outputs": []
    },
    {
      "cell_type": "code",
      "metadata": {
        "id": "mnQmaJ20nkM7",
        "colab_type": "code",
        "colab": {}
      },
      "source": [
        "#!python setup.py pytest"
      ],
      "execution_count": null,
      "outputs": []
    },
    {
      "cell_type": "code",
      "metadata": {
        "id": "fOgJ15FCOsXt",
        "colab_type": "code",
        "colab": {}
      },
      "source": [
        "cd /content"
      ],
      "execution_count": null,
      "outputs": []
    },
    {
      "cell_type": "markdown",
      "metadata": {
        "id": "NgEgkT7OT7P2",
        "colab_type": "text"
      },
      "source": [
        "Testing KeyRecognition on a single example:"
      ]
    },
    {
      "cell_type": "code",
      "metadata": {
        "id": "-PtBTGAUuR8p",
        "colab_type": "code",
        "colab": {}
      },
      "source": [
        "#!/content/madmom/bin/KeyRecognition single '/content/AugmentedGiantSteps/fixed_small/1004923-0.LOFI.mp3'"
      ],
      "execution_count": null,
      "outputs": []
    },
    {
      "cell_type": "markdown",
      "metadata": {
        "id": "pVxhch53UPWZ",
        "colab_type": "text"
      },
      "source": [
        "KeyRecognition batch on small data set"
      ]
    },
    {
      "cell_type": "code",
      "metadata": {
        "id": "0rC8yJMw6NIB",
        "colab_type": "code",
        "colab": {}
      },
      "source": [
        "#!find  '/content/AugmentedGiantSteps/fixed_small'  -name '*.mp3' -exec /content/madmom/bin/KeyRecognition batch {} + "
      ],
      "execution_count": null,
      "outputs": []
    },
    {
      "cell_type": "code",
      "metadata": {
        "id": "x1I9TIkFXwGG",
        "colab_type": "code",
        "colab": {}
      },
      "source": [
        "#!find '/content/AugmentedGiantSteps/fixed_small'  -name '*.key.txt' -printf \"\\n%p\\n\" -exec cat {} \\;"
      ],
      "execution_count": null,
      "outputs": []
    },
    {
      "cell_type": "markdown",
      "metadata": {
        "id": "exC5DZfqsiw5",
        "colab_type": "text"
      },
      "source": [
        ""
      ]
    },
    {
      "cell_type": "code",
      "metadata": {
        "id": "3fqsaAskgNB_",
        "colab_type": "code",
        "colab": {}
      },
      "source": [
        "#!/content/madmom/bin/TempoDetector single '/content/AugmentedGiantSteps/fixed_small/883724-0.LOFI.mp3' "
      ],
      "execution_count": null,
      "outputs": []
    },
    {
      "cell_type": "code",
      "metadata": {
        "id": "cjDTS4qggm_5",
        "colab_type": "code",
        "colab": {}
      },
      "source": [
        "#!/content/madmom/bin/TempoDetector single '/content/AugmentedGiantSteps/fixed_small/1004923-0.LOFI.mp3' "
      ],
      "execution_count": null,
      "outputs": []
    },
    {
      "cell_type": "code",
      "metadata": {
        "id": "vfxqcCmUmtl-",
        "colab_type": "code",
        "colab": {}
      },
      "source": [
        "#!find  '/content/AugmentedGiantSteps/fixed_small'  -name '*.mp3' -exec /content/madmom/bin/TempoDetector batch {} + "
      ],
      "execution_count": null,
      "outputs": []
    },
    {
      "cell_type": "code",
      "metadata": {
        "id": "_gb-1I7-mxVa",
        "colab_type": "code",
        "colab": {}
      },
      "source": [
        "#!find '/content/AugmentedGiantSteps/fixed_small'  -name '*.bpm.txt' -printf \"\\n%p\\n\" -exec cat {} \\;"
      ],
      "execution_count": null,
      "outputs": []
    },
    {
      "cell_type": "markdown",
      "metadata": {
        "id": "v4iN6AjKtAtI",
        "colab_type": "text"
      },
      "source": [
        "Testing batch keydetection on 200 files"
      ]
    },
    {
      "cell_type": "code",
      "metadata": {
        "id": "JW1b15pUtAVj",
        "colab_type": "code",
        "colab": {}
      },
      "source": [
        "#!find  '/content/madmom/AugmentedGiantSteps/data_200 part 1'  -name '*.mp3' -exec /content/madmom/bin/KeyRecognition batch {} + "
      ],
      "execution_count": null,
      "outputs": []
    },
    {
      "cell_type": "code",
      "metadata": {
        "id": "3pV0JskltItS",
        "colab_type": "code",
        "colab": {}
      },
      "source": [
        "#!find '/content/madmom/AugmentedGiantSteps/data_200 part 1'  -name '*.key.txt' -printf \"\\n%p\\n\" -exec cat {} \\;"
      ],
      "execution_count": null,
      "outputs": []
    },
    {
      "cell_type": "code",
      "metadata": {
        "id": "OTpMuJAEwn1Y",
        "colab_type": "code",
        "colab": {}
      },
      "source": [
        "#!find  '/content/madmom/AugmentedGiantSteps/data_200 part 1'  -name '*.mp3' -exec /content/madmom/bin/TempoDetector batch {} + "
      ],
      "execution_count": null,
      "outputs": []
    },
    {
      "cell_type": "code",
      "metadata": {
        "id": "6pc4Fah_wtFY",
        "colab_type": "code",
        "colab": {}
      },
      "source": [
        "#!find '/content/madmom/AugmentedGiantSteps/data_200 part 1'  -name '*.bpm.txt' -printf \"\\n%p\\n\" -exec cat {} \\;"
      ],
      "execution_count": null,
      "outputs": []
    },
    {
      "cell_type": "code",
      "metadata": {
        "id": "9aXKWBvnPZeV",
        "colab_type": "code",
        "colab": {}
      },
      "source": [
        "!pip install ffmpeg-python"
      ],
      "execution_count": null,
      "outputs": []
    },
    {
      "cell_type": "code",
      "metadata": {
        "id": "sH2VZCx8Xgf8",
        "colab_type": "code",
        "colab": {}
      },
      "source": [
        "!pip install pydub"
      ],
      "execution_count": null,
      "outputs": []
    },
    {
      "cell_type": "code",
      "metadata": {
        "id": "bz7RuKo_QSmH",
        "colab_type": "code",
        "colab": {}
      },
      "source": [
        "!ffmpeg -version"
      ],
      "execution_count": null,
      "outputs": []
    },
    {
      "cell_type": "code",
      "metadata": {
        "id": "9YtQl7Q2Pm7R",
        "colab_type": "code",
        "colab": {}
      },
      "source": [
        "#!apt-get install ffmpeg libavcodec-extra"
      ],
      "execution_count": null,
      "outputs": []
    },
    {
      "cell_type": "code",
      "metadata": {
        "id": "NPV6g-gALTsh",
        "colab_type": "code",
        "colab": {}
      },
      "source": [
        "#!apt-get install libav-tools libavcodec-extra"
      ],
      "execution_count": null,
      "outputs": []
    },
    {
      "cell_type": "code",
      "metadata": {
        "id": "DMnpjGEiwcWO",
        "colab_type": "code",
        "colab": {}
      },
      "source": [
        "!python3 /content/AugmentedGiantSteps/sliding_window.py --key /content/madmom/bin/KeyRecognition --tempo /content/madmom/bin/TempoDetector"
      ],
      "execution_count": null,
      "outputs": []
    },
    {
      "cell_type": "code",
      "metadata": {
        "id": "i42M-gemGsl8",
        "colab_type": "code",
        "colab": {}
      },
      "source": [
        "cd /content/AugmentedGiantSteps/fixed_small/split"
      ],
      "execution_count": null,
      "outputs": []
    },
    {
      "cell_type": "code",
      "metadata": {
        "id": "MmgpFMv_GvrM",
        "colab_type": "code",
        "colab": {}
      },
      "source": [
        "rm *.mp3"
      ],
      "execution_count": null,
      "outputs": []
    },
    {
      "cell_type": "code",
      "metadata": {
        "id": "nbl1IdGAJ_-P",
        "colab_type": "code",
        "colab": {}
      },
      "source": [
        "cd /content/"
      ],
      "execution_count": null,
      "outputs": []
    }
  ]
}