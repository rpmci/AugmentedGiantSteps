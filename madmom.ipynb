{
  "nbformat": 4,
  "nbformat_minor": 0,
  "metadata": {
    "colab": {
      "name": "madmom.ipynb",
      "provenance": [],
      "include_colab_link": true
    },
    "kernelspec": {
      "name": "python3",
      "display_name": "Python 3"
    },
    "accelerator": "GPU"
  },
  "cells": [
    {
      "cell_type": "markdown",
      "metadata": {
        "id": "view-in-github",
        "colab_type": "text"
      },
      "source": [
        "<a href=\"https://colab.research.google.com/github/rpmci/AugmentedGiantSteps/blob/master/madmom.ipynb\" target=\"_parent\"><img src=\"https://colab.research.google.com/assets/colab-badge.svg\" alt=\"Open In Colab\"/></a>"
      ]
    },
    {
      "cell_type": "code",
      "metadata": {
        "id": "Q7kd8rWGgd7A",
        "colab_type": "code",
        "colab": {
          "base_uri": "https://localhost:8080/",
          "height": 88
        },
        "outputId": "8f31dab5-d1ed-4e7b-d151-8f2f7f6e3378"
      },
      "source": [
        "!pip install ipython-autotime\n",
        "\n",
        "%load_ext autotime"
      ],
      "execution_count": 23,
      "outputs": [
        {
          "output_type": "stream",
          "text": [
            "Requirement already satisfied: ipython-autotime in /usr/local/lib/python3.6/dist-packages (0.1)\n",
            "The autotime extension is already loaded. To reload it, use:\n",
            "  %reload_ext autotime\n",
            "time: 2.95 s\n"
          ],
          "name": "stdout"
        }
      ]
    },
    {
      "cell_type": "code",
      "metadata": {
        "id": "6QjhShXrc8nx",
        "colab_type": "code",
        "colab": {
          "base_uri": "https://localhost:8080/",
          "height": 177
        },
        "outputId": "1b10ddf1-e25c-4307-f467-63ab310d0a9c"
      },
      "source": [
        "!git clone https://github.com/rpmci/AugmentedGiantSteps.git"
      ],
      "execution_count": 24,
      "outputs": [
        {
          "output_type": "stream",
          "text": [
            "Cloning into 'AugmentedGiantSteps'...\n",
            "remote: Enumerating objects: 9, done.\u001b[K\n",
            "remote: Counting objects:  11% (1/9)\u001b[K\rremote: Counting objects:  22% (2/9)\u001b[K\rremote: Counting objects:  33% (3/9)\u001b[K\rremote: Counting objects:  44% (4/9)\u001b[K\rremote: Counting objects:  55% (5/9)\u001b[K\rremote: Counting objects:  66% (6/9)\u001b[K\rremote: Counting objects:  77% (7/9)\u001b[K\rremote: Counting objects:  88% (8/9)\u001b[K\rremote: Counting objects: 100% (9/9)\u001b[K\rremote: Counting objects: 100% (9/9), done.\u001b[K\n",
            "remote: Compressing objects: 100% (9/9), done.\u001b[K\n",
            "remote: Total 415 (delta 3), reused 0 (delta 0), pack-reused 406\u001b[K\n",
            "Receiving objects: 100% (415/415), 365.18 MiB | 39.75 MiB/s, done.\n",
            "Resolving deltas: 100% (9/9), done.\n",
            "Checking out files: 100% (424/424), done.\n",
            "time: 14.9 s\n"
          ],
          "name": "stdout"
        }
      ]
    },
    {
      "cell_type": "code",
      "metadata": {
        "id": "lSu__TwDoqBF",
        "colab_type": "code",
        "colab": {
          "base_uri": "https://localhost:8080/",
          "height": 52
        },
        "outputId": "0de647a1-630b-45a7-f6c4-c570ba675865"
      },
      "source": [
        "!git clone --recursive https://github.com/CPJKU/madmom.git"
      ],
      "execution_count": 25,
      "outputs": [
        {
          "output_type": "stream",
          "text": [
            "fatal: destination path 'madmom' already exists and is not an empty directory.\n",
            "time: 764 ms\n"
          ],
          "name": "stdout"
        }
      ]
    },
    {
      "cell_type": "code",
      "metadata": {
        "id": "7dq2xpSRkGZA",
        "colab_type": "code",
        "colab": {
          "base_uri": "https://localhost:8080/",
          "height": 52
        },
        "outputId": "994507e9-7efb-4a8a-d073-8309f05f79d8"
      },
      "source": [
        "cd madmom"
      ],
      "execution_count": 26,
      "outputs": [
        {
          "output_type": "stream",
          "text": [
            "/content/madmom/madmom\n",
            "time: 2.71 ms\n"
          ],
          "name": "stdout"
        }
      ]
    },
    {
      "cell_type": "code",
      "metadata": {
        "id": "6Hztfi0DmARa",
        "colab_type": "code",
        "colab": {
          "base_uri": "https://localhost:8080/",
          "height": 52
        },
        "outputId": "3a9f80ee-44c7-4bad-a4cd-91a16dc2acfa"
      },
      "source": [
        "!python setup.py develop --user"
      ],
      "execution_count": 27,
      "outputs": [
        {
          "output_type": "stream",
          "text": [
            "python3: can't open file 'setup.py': [Errno 2] No such file or directory\n",
            "time: 815 ms\n"
          ],
          "name": "stdout"
        }
      ]
    },
    {
      "cell_type": "code",
      "metadata": {
        "id": "mnQmaJ20nkM7",
        "colab_type": "code",
        "colab": {
          "base_uri": "https://localhost:8080/",
          "height": 35
        },
        "outputId": "12965584-146f-420e-9c1f-05c9452f561b"
      },
      "source": [
        "#!python setup.py pytest"
      ],
      "execution_count": 28,
      "outputs": [
        {
          "output_type": "stream",
          "text": [
            "time: 932 µs\n"
          ],
          "name": "stdout"
        }
      ]
    },
    {
      "cell_type": "markdown",
      "metadata": {
        "id": "NgEgkT7OT7P2",
        "colab_type": "text"
      },
      "source": [
        "Testing KeyRecognition on a single example:"
      ]
    },
    {
      "cell_type": "code",
      "metadata": {
        "id": "-PtBTGAUuR8p",
        "colab_type": "code",
        "colab": {
          "base_uri": "https://localhost:8080/",
          "height": 52
        },
        "outputId": "55703363-fcd0-474e-ecfe-a4f845519154"
      },
      "source": [
        "!/content/madmom/bin/KeyRecognition single '/content/AugmentedGiantSteps/fixed_small/1004923-0.LOFI.mp3'"
      ],
      "execution_count": 29,
      "outputs": [
        {
          "output_type": "stream",
          "text": [
            "G# minor\n",
            "time: 5.53 s\n"
          ],
          "name": "stdout"
        }
      ]
    },
    {
      "cell_type": "markdown",
      "metadata": {
        "id": "VRDfHrzXToP7",
        "colab_type": "text"
      },
      "source": [
        "KeyRecognition single on small data set\n"
      ]
    },
    {
      "cell_type": "code",
      "metadata": {
        "id": "N8E7BJNO1fFY",
        "colab_type": "code",
        "colab": {
          "base_uri": "https://localhost:8080/",
          "height": 212
        },
        "outputId": "8424b149-ca98-4a50-8b1a-241672765b79"
      },
      "source": [
        "mp3list = !ls -d \"/content/AugmentedGiantSteps/fixed_small\"/*mp3\n",
        "for f in mp3list:\n",
        "  !/content/madmom/bin/KeyRecognition single $f"
      ],
      "execution_count": 30,
      "outputs": [
        {
          "output_type": "stream",
          "text": [
            "G# minor\n",
            "C minor\n",
            "F minor\n",
            "F# minor\n",
            "Bb major\n",
            "G# minor\n",
            "B minor\n",
            "C# minor\n",
            "E minor\n",
            "F minor\n",
            "time: 54.3 s\n"
          ],
          "name": "stdout"
        }
      ]
    },
    {
      "cell_type": "markdown",
      "metadata": {
        "id": "pVxhch53UPWZ",
        "colab_type": "text"
      },
      "source": [
        "KeyRecognition batch on small data set"
      ]
    },
    {
      "cell_type": "code",
      "metadata": {
        "id": "0rC8yJMw6NIB",
        "colab_type": "code",
        "colab": {
          "base_uri": "https://localhost:8080/",
          "height": 35
        },
        "outputId": "1b834bcf-6d2b-4864-e197-d3bdba5e6030"
      },
      "source": [
        "!find  '/content/AugmentedGiantSteps/fixed_small'  -name '*.mp3' -exec /content/madmom/bin/KeyRecognition batch {} + "
      ],
      "execution_count": 31,
      "outputs": [
        {
          "output_type": "stream",
          "text": [
            "time: 43.6 s\n"
          ],
          "name": "stdout"
        }
      ]
    },
    {
      "cell_type": "code",
      "metadata": {
        "id": "x1I9TIkFXwGG",
        "colab_type": "code",
        "colab": {
          "base_uri": "https://localhost:8080/",
          "height": 568
        },
        "outputId": "e910f849-9492-4273-c435-e6568ce8443f"
      },
      "source": [
        "!find '/content/AugmentedGiantSteps/fixed_small'  -name '*.key.txt' -printf \"\\n%p\\n\" -exec cat {} \\;"
      ],
      "execution_count": 32,
      "outputs": [
        {
          "output_type": "stream",
          "text": [
            "\n",
            "/content/AugmentedGiantSteps/fixed_small/883724-0.LOFI.key.txt\n",
            "F minor\n",
            "\n",
            "/content/AugmentedGiantSteps/fixed_small/1004923-0.LOFI.key.txt\n",
            "G# minor\n",
            "\n",
            "/content/AugmentedGiantSteps/fixed_small/847422-0.LOFI.key.txt\n",
            "E minor\n",
            "\n",
            "/content/AugmentedGiantSteps/fixed_small/1468437-0.LOFI.key.txt\n",
            "F# minor\n",
            "\n",
            "/content/AugmentedGiantSteps/fixed_small/1193612-0.LOFI.key.txt\n",
            "F minor\n",
            "\n",
            "/content/AugmentedGiantSteps/fixed_small/774875-0.LOFI.key.txt\n",
            "C# minor\n",
            "\n",
            "/content/AugmentedGiantSteps/fixed_small/203493-0.LOFI.key.txt\n",
            "Bb major\n",
            "\n",
            "/content/AugmentedGiantSteps/fixed_small/631883-0.LOFI.key.txt\n",
            "B minor\n",
            "\n",
            "/content/AugmentedGiantSteps/fixed_small/61415-0.LOFI.key.txt\n",
            "G# minor\n",
            "\n",
            "/content/AugmentedGiantSteps/fixed_small/1103512-0.LOFI.key.txt\n",
            "C minor\n",
            "time: 814 ms\n"
          ],
          "name": "stdout"
        }
      ]
    },
    {
      "cell_type": "code",
      "metadata": {
        "id": "3fqsaAskgNB_",
        "colab_type": "code",
        "colab": {
          "base_uri": "https://localhost:8080/",
          "height": 52
        },
        "outputId": "bf84c394-9c4d-4c60-84ff-785f7bc1fe69"
      },
      "source": [
        "!/content/madmom/bin/TempoDetector single '/content/AugmentedGiantSteps/fixed_small/883724-0.LOFI.mp3' "
      ],
      "execution_count": 33,
      "outputs": [
        {
          "output_type": "stream",
          "text": [
            "62.50\t125.00\t0.50\n",
            "time: 25.7 s\n"
          ],
          "name": "stdout"
        }
      ]
    },
    {
      "cell_type": "code",
      "metadata": {
        "id": "cjDTS4qggm_5",
        "colab_type": "code",
        "colab": {
          "base_uri": "https://localhost:8080/",
          "height": 52
        },
        "outputId": "658a9eda-09d7-4438-f008-cb7e61aa73c7"
      },
      "source": [
        "!/content/madmom/bin/TempoDetector single '/content/AugmentedGiantSteps/fixed_small/1004923-0.LOFI.mp3' "
      ],
      "execution_count": 34,
      "outputs": [
        {
          "output_type": "stream",
          "text": [
            "125.00\t62.50\t0.50\n",
            "time: 25.8 s\n"
          ],
          "name": "stdout"
        }
      ]
    },
    {
      "cell_type": "markdown",
      "metadata": {
        "id": "A0_VK2DGjJd5",
        "colab_type": "text"
      },
      "source": [
        "125.00\t62.50\t0.50\n",
        "\n",
        "With no GPU:\n",
        "time: 30.8 s"
      ]
    },
    {
      "cell_type": "markdown",
      "metadata": {
        "id": "qcLQY7DblwnD",
        "colab_type": "text"
      },
      "source": [
        "125.00\t62.50\t0.50\n",
        "\n",
        "With GPU\n",
        "time: 26.6 s"
      ]
    },
    {
      "cell_type": "code",
      "metadata": {
        "id": "vfxqcCmUmtl-",
        "colab_type": "code",
        "colab": {
          "base_uri": "https://localhost:8080/",
          "height": 35
        },
        "outputId": "efa62ee0-f0b8-4f2c-c810-798dabcf16e3"
      },
      "source": [
        "!find  '/content/AugmentedGiantSteps/fixed_small'  -name '*.mp3' -exec /content/madmom/bin/TempoDetector batch {} + "
      ],
      "execution_count": 35,
      "outputs": [
        {
          "output_type": "stream",
          "text": [
            "time: 3min 58s\n"
          ],
          "name": "stdout"
        }
      ]
    },
    {
      "cell_type": "code",
      "metadata": {
        "id": "_gb-1I7-mxVa",
        "colab_type": "code",
        "colab": {
          "base_uri": "https://localhost:8080/",
          "height": 568
        },
        "outputId": "6e65ba86-9b56-4d3f-bf6f-fee1663b12b0"
      },
      "source": [
        "!find '/content/AugmentedGiantSteps/fixed_small'  -name '*.bpm.txt' -printf \"\\n%p\\n\" -exec cat {} \\;"
      ],
      "execution_count": 36,
      "outputs": [
        {
          "output_type": "stream",
          "text": [
            "\n",
            "/content/AugmentedGiantSteps/fixed_small/1193612-0.LOFI.bpm.txt\n",
            "120.00\t60.00\t0.58\n",
            "\n",
            "/content/AugmentedGiantSteps/fixed_small/61415-0.LOFI.bpm.txt\n",
            "68.97\t136.36\t0.51\n",
            "\n",
            "/content/AugmentedGiantSteps/fixed_small/203493-0.LOFI.bpm.txt\n",
            "127.66\t42.86\t0.60\n",
            "\n",
            "/content/AugmentedGiantSteps/fixed_small/883724-0.LOFI.bpm.txt\n",
            "62.50\t125.00\t0.50\n",
            "\n",
            "/content/AugmentedGiantSteps/fixed_small/1103512-0.LOFI.bpm.txt\n",
            "61.86\t125.00\t0.54\n",
            "\n",
            "/content/AugmentedGiantSteps/fixed_small/847422-0.LOFI.bpm.txt\n",
            "125.00\t63.16\t0.55\n",
            "\n",
            "/content/AugmentedGiantSteps/fixed_small/774875-0.LOFI.bpm.txt\n",
            "120.00\t60.00\t0.61\n",
            "\n",
            "/content/AugmentedGiantSteps/fixed_small/1468437-0.LOFI.bpm.txt\n",
            "127.66\t42.25\t0.58\n",
            "\n",
            "/content/AugmentedGiantSteps/fixed_small/631883-0.LOFI.bpm.txt\n",
            "65.93\t133.33\t0.57\n",
            "\n",
            "/content/AugmentedGiantSteps/fixed_small/1004923-0.LOFI.bpm.txt\n",
            "125.00\t62.50\t0.50\n",
            "time: 896 ms\n"
          ],
          "name": "stdout"
        }
      ]
    },
    {
      "cell_type": "markdown",
      "metadata": {
        "id": "UdajxnVgWwOD",
        "colab_type": "text"
      },
      "source": [
        "TODO get sliding_window.py working"
      ]
    }
  ]
}