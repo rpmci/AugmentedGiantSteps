{
  "nbformat": 4,
  "nbformat_minor": 0,
  "metadata": {
    "colab": {
      "name": "madmom.ipynb",
      "provenance": [],
      "collapsed_sections": [],
      "include_colab_link": true
    },
    "kernelspec": {
      "name": "python3",
      "display_name": "Python 3"
    },
    "accelerator": "TPU"
  },
  "cells": [
    {
      "cell_type": "markdown",
      "metadata": {
        "id": "view-in-github",
        "colab_type": "text"
      },
      "source": [
        "<a href=\"https://colab.research.google.com/github/rpmci/AugmentedGiantSteps/blob/master/madmom.ipynb\" target=\"_parent\"><img src=\"https://colab.research.google.com/assets/colab-badge.svg\" alt=\"Open In Colab\"/></a>"
      ]
    },
    {
      "cell_type": "code",
      "metadata": {
        "id": "Q7kd8rWGgd7A",
        "colab_type": "code",
        "colab": {
          "base_uri": "https://localhost:8080/",
          "height": 88
        },
        "outputId": "4273dffe-7ef2-430a-fdba-d2feea14c860"
      },
      "source": [
        "!pip install ipython-autotime\n",
        "\n",
        "%load_ext autotime"
      ],
      "execution_count": null,
      "outputs": [
        {
          "output_type": "stream",
          "text": [
            "Requirement already satisfied: ipython-autotime in /usr/local/lib/python3.6/dist-packages (0.1)\n",
            "The autotime extension is already loaded. To reload it, use:\n",
            "  %reload_ext autotime\n",
            "time: 3.68 s\n"
          ],
          "name": "stdout"
        }
      ]
    },
    {
      "cell_type": "code",
      "metadata": {
        "id": "6QjhShXrc8nx",
        "colab_type": "code",
        "colab": {
          "base_uri": "https://localhost:8080/",
          "height": 177
        },
        "outputId": "3b120a48-a937-4264-809f-bd41a8274662"
      },
      "source": [
        "!git clone https://github.com/rpmci/AugmentedGiantSteps.git"
      ],
      "execution_count": null,
      "outputs": [
        {
          "output_type": "stream",
          "text": [
            "Cloning into 'AugmentedGiantSteps'...\n",
            "remote: Enumerating objects: 12, done.\u001b[K\n",
            "remote: Counting objects: 100% (12/12), done.\u001b[K\n",
            "remote: Compressing objects: 100% (12/12), done.\u001b[K\n",
            "remote: Total 418 (delta 5), reused 0 (delta 0), pack-reused 406\u001b[K\n",
            "Receiving objects: 100% (418/418), 365.18 MiB | 33.92 MiB/s, done.\n",
            "Resolving deltas: 100% (11/11), done.\n",
            "Checking out files: 100% (424/424), done.\n",
            "time: 17.1 s\n"
          ],
          "name": "stdout"
        }
      ]
    },
    {
      "cell_type": "code",
      "metadata": {
        "id": "lSu__TwDoqBF",
        "colab_type": "code",
        "colab": {
          "base_uri": "https://localhost:8080/",
          "height": 319
        },
        "outputId": "3529f4de-01ed-45f2-aba0-39cbf1e14d2c"
      },
      "source": [
        "!git clone --recursive https://github.com/CPJKU/madmom.git"
      ],
      "execution_count": null,
      "outputs": [
        {
          "output_type": "stream",
          "text": [
            "Cloning into 'madmom'...\n",
            "remote: Enumerating objects: 96, done.\u001b[K\n",
            "remote: Counting objects: 100% (96/96), done.\u001b[K\n",
            "remote: Compressing objects: 100% (72/72), done.\u001b[K\n",
            "remote: Total 12892 (delta 39), reused 52 (delta 24), pack-reused 12796\u001b[K\n",
            "Receiving objects: 100% (12892/12892), 6.22 MiB | 20.29 MiB/s, done.\n",
            "Resolving deltas: 100% (9783/9783), done.\n",
            "Submodule 'madmom/models' (https://github.com/CPJKU/madmom_models.git) registered for path 'madmom/models'\n",
            "Cloning into '/content/madmom/madmom/models'...\n",
            "remote: Enumerating objects: 17, done.        \n",
            "remote: Counting objects: 100% (17/17), done.        \n",
            "remote: Compressing objects: 100% (13/13), done.        \n",
            "remote: Total 251 (delta 6), reused 11 (delta 3), pack-reused 234        \n",
            "Receiving objects: 100% (251/251), 32.82 MiB | 28.31 MiB/s, done.\n",
            "Resolving deltas: 100% (57/57), done.\n",
            "Submodule path 'madmom/models': checked out 'df793487a4cc9ea6473034a35b70624b55415de5'\n",
            "time: 4.85 s\n"
          ],
          "name": "stdout"
        }
      ]
    },
    {
      "cell_type": "code",
      "metadata": {
        "id": "qZrlwKbjc4nM",
        "colab_type": "code",
        "colab": {
          "base_uri": "https://localhost:8080/",
          "height": 35
        },
        "outputId": "28a05ed3-51a7-43db-9c64-325036b7eb94"
      },
      "source": [
        "#!git clone https://github.com/jiaaro/pydub.git"
      ],
      "execution_count": null,
      "outputs": [
        {
          "output_type": "stream",
          "text": [
            "time: 1.9 ms\n"
          ],
          "name": "stdout"
        }
      ]
    },
    {
      "cell_type": "code",
      "metadata": {
        "id": "Jy6qzwRedKRz",
        "colab_type": "code",
        "colab": {
          "base_uri": "https://localhost:8080/",
          "height": 177
        },
        "outputId": "ddbdfa64-7102-4726-9395-bfe0efaf3c81"
      },
      "source": [
        "!apt install ffmpeg"
      ],
      "execution_count": null,
      "outputs": [
        {
          "output_type": "stream",
          "text": [
            "Reading package lists... Done\n",
            "Building dependency tree       \n",
            "Reading state information... Done\n",
            "ffmpeg is already the newest version (7:3.4.8-0ubuntu0.2).\n",
            "The following package was automatically installed and is no longer required:\n",
            "  libnvidia-common-440\n",
            "Use 'apt autoremove' to remove it.\n",
            "0 upgraded, 0 newly installed, 0 to remove and 35 not upgraded.\n",
            "time: 3.07 s\n"
          ],
          "name": "stdout"
        }
      ]
    },
    {
      "cell_type": "code",
      "metadata": {
        "id": "7dq2xpSRkGZA",
        "colab_type": "code",
        "colab": {
          "base_uri": "https://localhost:8080/",
          "height": 52
        },
        "outputId": "f8494066-c4a7-4821-9dd1-ad3d2e0070bb"
      },
      "source": [
        "cd madmom"
      ],
      "execution_count": null,
      "outputs": [
        {
          "output_type": "stream",
          "text": [
            "/content/madmom\n",
            "time: 4.42 ms\n"
          ],
          "name": "stdout"
        }
      ]
    },
    {
      "cell_type": "code",
      "metadata": {
        "id": "6Hztfi0DmARa",
        "colab_type": "code",
        "colab": {
          "base_uri": "https://localhost:8080/",
          "height": 1000
        },
        "outputId": "5d5d60da-f0b2-4696-aaa0-d79f1fd60d3e"
      },
      "source": [
        "!python setup.py develop --user"
      ],
      "execution_count": null,
      "outputs": [
        {
          "output_type": "stream",
          "text": [
            "Compiling madmom/audio/comb_filters.pyx because it changed.\n",
            "Compiling madmom/features/beats_crf.pyx because it changed.\n",
            "Compiling madmom/ml/hmm.pyx because it changed.\n",
            "Compiling madmom/ml/nn/layers.py because it changed.\n",
            "[1/4] Cythonizing madmom/audio/comb_filters.pyx\n",
            "/usr/local/lib/python3.6/dist-packages/Cython/Compiler/Main.py:369: FutureWarning: Cython directive 'language_level' not set, using 2 for now (Py2). This will change in a later release! File: /content/madmom/madmom/audio/comb_filters.pyx\n",
            "  tree = Parsing.p_module(s, pxd, full_module_name)\n",
            "[2/4] Cythonizing madmom/features/beats_crf.pyx\n",
            "/usr/local/lib/python3.6/dist-packages/Cython/Compiler/Main.py:369: FutureWarning: Cython directive 'language_level' not set, using 2 for now (Py2). This will change in a later release! File: /content/madmom/madmom/features/beats_crf.pyx\n",
            "  tree = Parsing.p_module(s, pxd, full_module_name)\n",
            "[3/4] Cythonizing madmom/ml/hmm.pyx\n",
            "/usr/local/lib/python3.6/dist-packages/Cython/Compiler/Main.py:369: FutureWarning: Cython directive 'language_level' not set, using 2 for now (Py2). This will change in a later release! File: /content/madmom/madmom/ml/hmm.pyx\n",
            "  tree = Parsing.p_module(s, pxd, full_module_name)\n",
            "[4/4] Cythonizing madmom/ml/nn/layers.py\n",
            "/usr/local/lib/python3.6/dist-packages/Cython/Compiler/Main.py:369: FutureWarning: Cython directive 'language_level' not set, using 2 for now (Py2). This will change in a later release! File: /content/madmom/madmom/ml/nn/layers.pxd\n",
            "  tree = Parsing.p_module(s, pxd, full_module_name)\n",
            "running develop\n",
            "running egg_info\n",
            "creating madmom.egg-info\n",
            "writing madmom.egg-info/PKG-INFO\n",
            "writing dependency_links to madmom.egg-info/dependency_links.txt\n",
            "writing requirements to madmom.egg-info/requires.txt\n",
            "writing top-level names to madmom.egg-info/top_level.txt\n",
            "writing manifest file 'madmom.egg-info/SOURCES.txt'\n",
            "reading manifest template 'MANIFEST.in'\n",
            "writing manifest file 'madmom.egg-info/SOURCES.txt'\n",
            "running build_ext\n",
            "building 'madmom.audio.comb_filters' extension\n",
            "creating build\n",
            "creating build/temp.linux-x86_64-3.6\n",
            "creating build/temp.linux-x86_64-3.6/madmom\n",
            "creating build/temp.linux-x86_64-3.6/madmom/audio\n",
            "x86_64-linux-gnu-gcc -pthread -DNDEBUG -g -fwrapv -O2 -Wall -g -fstack-protector-strong -Wformat -Werror=format-security -Wdate-time -D_FORTIFY_SOURCE=2 -fPIC -I/usr/local/lib/python3.6/dist-packages/numpy/core/include -I/usr/include/python3.6m -c madmom/audio/comb_filters.c -o build/temp.linux-x86_64-3.6/madmom/audio/comb_filters.o\n",
            "In file included from \u001b[01m\u001b[K/usr/local/lib/python3.6/dist-packages/numpy/core/include/numpy/ndarraytypes.h:1832:0\u001b[m\u001b[K,\n",
            "                 from \u001b[01m\u001b[K/usr/local/lib/python3.6/dist-packages/numpy/core/include/numpy/ndarrayobject.h:12\u001b[m\u001b[K,\n",
            "                 from \u001b[01m\u001b[K/usr/local/lib/python3.6/dist-packages/numpy/core/include/numpy/arrayobject.h:4\u001b[m\u001b[K,\n",
            "                 from \u001b[01m\u001b[Kmadmom/audio/comb_filters.c:629\u001b[m\u001b[K:\n",
            "\u001b[01m\u001b[K/usr/local/lib/python3.6/dist-packages/numpy/core/include/numpy/npy_1_7_deprecated_api.h:17:2:\u001b[m\u001b[K \u001b[01;35m\u001b[Kwarning: \u001b[m\u001b[K#warning \"Using deprecated NumPy API, disable it with \" \"#define NPY_NO_DEPRECATED_API NPY_1_7_API_VERSION\" [\u001b[01;35m\u001b[K-Wcpp\u001b[m\u001b[K]\n",
            " #\u001b[01;35m\u001b[Kwarning\u001b[m\u001b[K \"Using deprecated NumPy API, disable it with \" \\\n",
            "  \u001b[01;35m\u001b[K^~~~~~~\u001b[m\u001b[K\n",
            "x86_64-linux-gnu-gcc -pthread -shared -Wl,-O1 -Wl,-Bsymbolic-functions -Wl,-Bsymbolic-functions -Wl,-z,relro -Wl,-Bsymbolic-functions -Wl,-z,relro -g -fstack-protector-strong -Wformat -Werror=format-security -Wdate-time -D_FORTIFY_SOURCE=2 build/temp.linux-x86_64-3.6/madmom/audio/comb_filters.o -o /content/madmom/madmom/audio/comb_filters.cpython-36m-x86_64-linux-gnu.so\n",
            "building 'madmom.features.beats_crf' extension\n",
            "creating build/temp.linux-x86_64-3.6/madmom/features\n",
            "x86_64-linux-gnu-gcc -pthread -DNDEBUG -g -fwrapv -O2 -Wall -g -fstack-protector-strong -Wformat -Werror=format-security -Wdate-time -D_FORTIFY_SOURCE=2 -fPIC -I/usr/local/lib/python3.6/dist-packages/numpy/core/include -I/usr/include/python3.6m -c madmom/features/beats_crf.c -o build/temp.linux-x86_64-3.6/madmom/features/beats_crf.o\n",
            "In file included from \u001b[01m\u001b[K/usr/local/lib/python3.6/dist-packages/numpy/core/include/numpy/ndarraytypes.h:1832:0\u001b[m\u001b[K,\n",
            "                 from \u001b[01m\u001b[K/usr/local/lib/python3.6/dist-packages/numpy/core/include/numpy/ndarrayobject.h:12\u001b[m\u001b[K,\n",
            "                 from \u001b[01m\u001b[K/usr/local/lib/python3.6/dist-packages/numpy/core/include/numpy/arrayobject.h:4\u001b[m\u001b[K,\n",
            "                 from \u001b[01m\u001b[Kmadmom/features/beats_crf.c:630\u001b[m\u001b[K:\n",
            "\u001b[01m\u001b[K/usr/local/lib/python3.6/dist-packages/numpy/core/include/numpy/npy_1_7_deprecated_api.h:17:2:\u001b[m\u001b[K \u001b[01;35m\u001b[Kwarning: \u001b[m\u001b[K#warning \"Using deprecated NumPy API, disable it with \" \"#define NPY_NO_DEPRECATED_API NPY_1_7_API_VERSION\" [\u001b[01;35m\u001b[K-Wcpp\u001b[m\u001b[K]\n",
            " #\u001b[01;35m\u001b[Kwarning\u001b[m\u001b[K \"Using deprecated NumPy API, disable it with \" \\\n",
            "  \u001b[01;35m\u001b[K^~~~~~~\u001b[m\u001b[K\n",
            "\u001b[01m\u001b[Kmadmom/features/beats_crf.c:\u001b[m\u001b[K In function ‘\u001b[01m\u001b[K__pyx_pw_6madmom_8features_9beats_crf_9viterbi\u001b[m\u001b[K’:\n",
            "\u001b[01m\u001b[Kmadmom/features/beats_crf.c:4641:86:\u001b[m\u001b[K \u001b[01;35m\u001b[Kwarning: \u001b[m\u001b[K‘\u001b[01m\u001b[K__pyx_v_next_state\u001b[m\u001b[K’ may be used uninitialized in this function [\u001b[01;35m\u001b[K-Wmaybe-uninitialized\u001b[m\u001b[K]\n",
            "   \u001b[01;35m\u001b[K*((long *) ( /* dim=0 */ ((char *) (((long *) __pyx_v_path.data) + __pyx_t_13)) )) = __pyx_v_next_state\u001b[m\u001b[K;\n",
            "   \u001b[01;35m\u001b[K~~~~~~~~~~~~~~~~~~~~~~~~~~~~~~~~~~~~~~~~~~~~~~~~~~~~~~~~~~~~~~~~~~~~~~~~~~~~~~~~~~~^~~~~~~~~~~~~~~~~~~~\u001b[m\u001b[K\n",
            "\u001b[01m\u001b[Kmadmom/features/beats_crf.c:4159:7:\u001b[m\u001b[K \u001b[01;36m\u001b[Knote: \u001b[m\u001b[K‘\u001b[01m\u001b[K__pyx_v_next_state\u001b[m\u001b[K’ was declared here\n",
            "   int \u001b[01;36m\u001b[K__pyx_v_next_state\u001b[m\u001b[K;\n",
            "       \u001b[01;36m\u001b[K^~~~~~~~~~~~~~~~~~\u001b[m\u001b[K\n",
            "x86_64-linux-gnu-gcc -pthread -shared -Wl,-O1 -Wl,-Bsymbolic-functions -Wl,-Bsymbolic-functions -Wl,-z,relro -Wl,-Bsymbolic-functions -Wl,-z,relro -g -fstack-protector-strong -Wformat -Werror=format-security -Wdate-time -D_FORTIFY_SOURCE=2 build/temp.linux-x86_64-3.6/madmom/features/beats_crf.o -o /content/madmom/madmom/features/beats_crf.cpython-36m-x86_64-linux-gnu.so\n",
            "building 'madmom.ml.hmm' extension\n",
            "creating build/temp.linux-x86_64-3.6/madmom/ml\n",
            "x86_64-linux-gnu-gcc -pthread -DNDEBUG -g -fwrapv -O2 -Wall -g -fstack-protector-strong -Wformat -Werror=format-security -Wdate-time -D_FORTIFY_SOURCE=2 -fPIC -I/usr/local/lib/python3.6/dist-packages/numpy/core/include -I/usr/include/python3.6m -c madmom/ml/hmm.c -o build/temp.linux-x86_64-3.6/madmom/ml/hmm.o\n",
            "In file included from \u001b[01m\u001b[K/usr/local/lib/python3.6/dist-packages/numpy/core/include/numpy/ndarraytypes.h:1832:0\u001b[m\u001b[K,\n",
            "                 from \u001b[01m\u001b[K/usr/local/lib/python3.6/dist-packages/numpy/core/include/numpy/ndarrayobject.h:12\u001b[m\u001b[K,\n",
            "                 from \u001b[01m\u001b[K/usr/local/lib/python3.6/dist-packages/numpy/core/include/numpy/arrayobject.h:4\u001b[m\u001b[K,\n",
            "                 from \u001b[01m\u001b[Kmadmom/ml/hmm.c:630\u001b[m\u001b[K:\n",
            "\u001b[01m\u001b[K/usr/local/lib/python3.6/dist-packages/numpy/core/include/numpy/npy_1_7_deprecated_api.h:17:2:\u001b[m\u001b[K \u001b[01;35m\u001b[Kwarning: \u001b[m\u001b[K#warning \"Using deprecated NumPy API, disable it with \" \"#define NPY_NO_DEPRECATED_API NPY_1_7_API_VERSION\" [\u001b[01;35m\u001b[K-Wcpp\u001b[m\u001b[K]\n",
            " #\u001b[01;35m\u001b[Kwarning\u001b[m\u001b[K \"Using deprecated NumPy API, disable it with \" \\\n",
            "  \u001b[01;35m\u001b[K^~~~~~~\u001b[m\u001b[K\n",
            "x86_64-linux-gnu-gcc -pthread -shared -Wl,-O1 -Wl,-Bsymbolic-functions -Wl,-Bsymbolic-functions -Wl,-z,relro -Wl,-Bsymbolic-functions -Wl,-z,relro -g -fstack-protector-strong -Wformat -Werror=format-security -Wdate-time -D_FORTIFY_SOURCE=2 build/temp.linux-x86_64-3.6/madmom/ml/hmm.o -o /content/madmom/madmom/ml/hmm.cpython-36m-x86_64-linux-gnu.so\n",
            "building 'madmom.ml.nn.layers' extension\n",
            "creating build/temp.linux-x86_64-3.6/madmom/ml/nn\n",
            "x86_64-linux-gnu-gcc -pthread -DNDEBUG -g -fwrapv -O2 -Wall -g -fstack-protector-strong -Wformat -Werror=format-security -Wdate-time -D_FORTIFY_SOURCE=2 -fPIC -I/usr/local/lib/python3.6/dist-packages/numpy/core/include -I/usr/include/python3.6m -c madmom/ml/nn/layers.c -o build/temp.linux-x86_64-3.6/madmom/ml/nn/layers.o\n",
            "In file included from \u001b[01m\u001b[K/usr/local/lib/python3.6/dist-packages/numpy/core/include/numpy/ndarraytypes.h:1832:0\u001b[m\u001b[K,\n",
            "                 from \u001b[01m\u001b[K/usr/local/lib/python3.6/dist-packages/numpy/core/include/numpy/ndarrayobject.h:12\u001b[m\u001b[K,\n",
            "                 from \u001b[01m\u001b[K/usr/local/lib/python3.6/dist-packages/numpy/core/include/numpy/arrayobject.h:4\u001b[m\u001b[K,\n",
            "                 from \u001b[01m\u001b[Kmadmom/ml/nn/layers.c:625\u001b[m\u001b[K:\n",
            "\u001b[01m\u001b[K/usr/local/lib/python3.6/dist-packages/numpy/core/include/numpy/npy_1_7_deprecated_api.h:17:2:\u001b[m\u001b[K \u001b[01;35m\u001b[Kwarning: \u001b[m\u001b[K#warning \"Using deprecated NumPy API, disable it with \" \"#define NPY_NO_DEPRECATED_API NPY_1_7_API_VERSION\" [\u001b[01;35m\u001b[K-Wcpp\u001b[m\u001b[K]\n",
            " #\u001b[01;35m\u001b[Kwarning\u001b[m\u001b[K \"Using deprecated NumPy API, disable it with \" \\\n",
            "  \u001b[01;35m\u001b[K^~~~~~~\u001b[m\u001b[K\n",
            "x86_64-linux-gnu-gcc -pthread -shared -Wl,-O1 -Wl,-Bsymbolic-functions -Wl,-Bsymbolic-functions -Wl,-z,relro -Wl,-Bsymbolic-functions -Wl,-z,relro -g -fstack-protector-strong -Wformat -Werror=format-security -Wdate-time -D_FORTIFY_SOURCE=2 build/temp.linux-x86_64-3.6/madmom/ml/nn/layers.o -o /content/madmom/madmom/ml/nn/layers.cpython-36m-x86_64-linux-gnu.so\n",
            "Creating /root/.local/lib/python3.6/site-packages/madmom.egg-link (link to .)\n",
            "Adding madmom 0.17.dev0 to easy-install.pth file\n",
            "Installing OnsetDetectorLL script to /root/.local/bin\n",
            "Installing DBNBeatTracker script to /root/.local/bin\n",
            "Installing TempoDetector script to /root/.local/bin\n",
            "Installing MMBeatTracker script to /root/.local/bin\n",
            "Installing LogFiltSpecFlux script to /root/.local/bin\n",
            "Installing GMMPatternTracker script to /root/.local/bin\n",
            "Installing evaluate script to /root/.local/bin\n",
            "Installing KeyRecognition script to /root/.local/bin\n",
            "Installing PickleProcessor script to /root/.local/bin\n",
            "Installing BeatDetector script to /root/.local/bin\n",
            "Installing CNNOnsetDetector script to /root/.local/bin\n",
            "Installing CNNChordRecognition script to /root/.local/bin\n",
            "Installing SuperFlux script to /root/.local/bin\n",
            "Installing SuperFluxNN script to /root/.local/bin\n",
            "Installing BeatTracker script to /root/.local/bin\n",
            "Installing PianoTranscriptor script to /root/.local/bin\n",
            "Installing DCChordRecognition script to /root/.local/bin\n",
            "Installing ComplexFlux script to /root/.local/bin\n",
            "Installing CRFBeatDetector script to /root/.local/bin\n",
            "Installing OnsetDetector script to /root/.local/bin\n",
            "Installing DBNDownBeatTracker script to /root/.local/bin\n",
            "Installing SpectralOnsetDetection script to /root/.local/bin\n",
            "Installing BarTracker script to /root/.local/bin\n",
            "\n",
            "Installed /content/madmom\n",
            "Processing dependencies for madmom==0.17.dev0\n",
            "Searching for mido>=1.2.6\n",
            "Reading https://pypi.org/simple/mido/\n",
            "Downloading https://files.pythonhosted.org/packages/20/0a/81beb587b1ae832ea6a1901dc7c6faa380e8dd154e0a862f0a9f3d2afab9/mido-1.2.9-py2.py3-none-any.whl#sha256=fc6364efa028c8405166f63e6a83cbc6c17aaeac2c28680abe64ae48703a89dd\n",
            "Best match: mido 1.2.9\n",
            "Processing mido-1.2.9-py2.py3-none-any.whl\n",
            "Installing mido-1.2.9-py2.py3-none-any.whl to /root/.local/lib/python3.6/site-packages\n",
            "Adding mido 1.2.9 to easy-install.pth file\n",
            "Installing mido-connect script to /root/.local/bin\n",
            "Installing mido-ports script to /root/.local/bin\n",
            "Installing mido-play script to /root/.local/bin\n",
            "Installing mido-serve script to /root/.local/bin\n",
            "\n",
            "Installed /root/.local/lib/python3.6/site-packages/mido-1.2.9-py3.6.egg\n",
            "Searching for Cython==0.29.21\n",
            "Best match: Cython 0.29.21\n",
            "Adding Cython 0.29.21 to easy-install.pth file\n",
            "Installing cygdb script to /root/.local/bin\n",
            "Installing cython script to /root/.local/bin\n",
            "Installing cythonize script to /root/.local/bin\n",
            "\n",
            "Using /usr/local/lib/python3.6/dist-packages\n",
            "Searching for scipy==1.4.1\n",
            "Best match: scipy 1.4.1\n",
            "Adding scipy 1.4.1 to easy-install.pth file\n",
            "\n",
            "Using /usr/local/lib/python3.6/dist-packages\n",
            "Searching for numpy==1.18.5\n",
            "Best match: numpy 1.18.5\n",
            "Adding numpy 1.18.5 to easy-install.pth file\n",
            "Installing f2py script to /root/.local/bin\n",
            "Installing f2py3 script to /root/.local/bin\n",
            "Installing f2py3.6 script to /root/.local/bin\n",
            "\n",
            "Using /usr/local/lib/python3.6/dist-packages\n",
            "Finished processing dependencies for madmom==0.17.dev0\n",
            "time: 29.6 s\n"
          ],
          "name": "stdout"
        }
      ]
    },
    {
      "cell_type": "code",
      "metadata": {
        "id": "mnQmaJ20nkM7",
        "colab_type": "code",
        "colab": {
          "base_uri": "https://localhost:8080/",
          "height": 35
        },
        "outputId": "dca07ec9-e2b3-4e75-b456-91e50457e729"
      },
      "source": [
        "#!python setup.py pytest"
      ],
      "execution_count": null,
      "outputs": [
        {
          "output_type": "stream",
          "text": [
            "time: 1.51 ms\n"
          ],
          "name": "stdout"
        }
      ]
    },
    {
      "cell_type": "markdown",
      "metadata": {
        "id": "NgEgkT7OT7P2",
        "colab_type": "text"
      },
      "source": [
        "Testing KeyRecognition on a single example:"
      ]
    },
    {
      "cell_type": "code",
      "metadata": {
        "id": "-PtBTGAUuR8p",
        "colab_type": "code",
        "colab": {
          "base_uri": "https://localhost:8080/",
          "height": 52
        },
        "outputId": "38298f35-4794-4066-cd1a-2f0876a1f7fb"
      },
      "source": [
        "!/content/madmom/bin/KeyRecognition single '/content/AugmentedGiantSteps/fixed_small/1004923-0.LOFI.mp3'"
      ],
      "execution_count": null,
      "outputs": [
        {
          "output_type": "stream",
          "text": [
            "G# minor\n",
            "time: 8.13 s\n"
          ],
          "name": "stdout"
        }
      ]
    },
    {
      "cell_type": "markdown",
      "metadata": {
        "id": "pVxhch53UPWZ",
        "colab_type": "text"
      },
      "source": [
        "KeyRecognition batch on small data set"
      ]
    },
    {
      "cell_type": "code",
      "metadata": {
        "id": "0rC8yJMw6NIB",
        "colab_type": "code",
        "colab": {
          "base_uri": "https://localhost:8080/",
          "height": 35
        },
        "outputId": "8db3c955-4480-40a9-89ee-b3815e660134"
      },
      "source": [
        "!find  '/content/AugmentedGiantSteps/fixed_small'  -name '*.mp3' -exec /content/madmom/bin/KeyRecognition batch {} + "
      ],
      "execution_count": null,
      "outputs": [
        {
          "output_type": "stream",
          "text": [
            "time: 51.2 s\n"
          ],
          "name": "stdout"
        }
      ]
    },
    {
      "cell_type": "code",
      "metadata": {
        "id": "x1I9TIkFXwGG",
        "colab_type": "code",
        "colab": {
          "base_uri": "https://localhost:8080/",
          "height": 568
        },
        "outputId": "55559913-cd20-476e-f3cc-4ed4405f5a45"
      },
      "source": [
        "!find '/content/AugmentedGiantSteps/fixed_small'  -name '*.key.txt' -printf \"\\n%p\\n\" -exec cat {} \\;"
      ],
      "execution_count": null,
      "outputs": [
        {
          "output_type": "stream",
          "text": [
            "\n",
            "/content/AugmentedGiantSteps/fixed_small/203493-0.LOFI.key.txt\n",
            "Bb major\n",
            "\n",
            "/content/AugmentedGiantSteps/fixed_small/1468437-0.LOFI.key.txt\n",
            "F# minor\n",
            "\n",
            "/content/AugmentedGiantSteps/fixed_small/847422-0.LOFI.key.txt\n",
            "E minor\n",
            "\n",
            "/content/AugmentedGiantSteps/fixed_small/631883-0.LOFI.key.txt\n",
            "B minor\n",
            "\n",
            "/content/AugmentedGiantSteps/fixed_small/883724-0.LOFI.key.txt\n",
            "F minor\n",
            "\n",
            "/content/AugmentedGiantSteps/fixed_small/1004923-0.LOFI.key.txt\n",
            "G# minor\n",
            "\n",
            "/content/AugmentedGiantSteps/fixed_small/1103512-0.LOFI.key.txt\n",
            "C minor\n",
            "\n",
            "/content/AugmentedGiantSteps/fixed_small/1193612-0.LOFI.key.txt\n",
            "F minor\n",
            "\n",
            "/content/AugmentedGiantSteps/fixed_small/61415-0.LOFI.key.txt\n",
            "G# minor\n",
            "\n",
            "/content/AugmentedGiantSteps/fixed_small/774875-0.LOFI.key.txt\n",
            "C# minor\n",
            "time: 794 ms\n"
          ],
          "name": "stdout"
        }
      ]
    },
    {
      "cell_type": "markdown",
      "metadata": {
        "id": "exC5DZfqsiw5",
        "colab_type": "text"
      },
      "source": [
        ""
      ]
    },
    {
      "cell_type": "code",
      "metadata": {
        "id": "3fqsaAskgNB_",
        "colab_type": "code",
        "colab": {
          "base_uri": "https://localhost:8080/",
          "height": 52
        },
        "outputId": "1ff79cbd-f754-4f85-aed0-ae3d717ebfd6"
      },
      "source": [
        "!/content/madmom/bin/TempoDetector single '/content/AugmentedGiantSteps/fixed_small/883724-0.LOFI.mp3' "
      ],
      "execution_count": null,
      "outputs": [
        {
          "output_type": "stream",
          "text": [
            "62.50\t125.00\t0.50\n",
            "time: 28.9 s\n"
          ],
          "name": "stdout"
        }
      ]
    },
    {
      "cell_type": "code",
      "metadata": {
        "id": "cjDTS4qggm_5",
        "colab_type": "code",
        "colab": {
          "base_uri": "https://localhost:8080/",
          "height": 52
        },
        "outputId": "afbde852-02d6-4df6-8689-39d031e4e378"
      },
      "source": [
        "!/content/madmom/bin/TempoDetector single '/content/AugmentedGiantSteps/fixed_small/1004923-0.LOFI.mp3' "
      ],
      "execution_count": null,
      "outputs": [
        {
          "output_type": "stream",
          "text": [
            "125.00\t62.50\t0.50\n",
            "time: 29.2 s\n"
          ],
          "name": "stdout"
        }
      ]
    },
    {
      "cell_type": "code",
      "metadata": {
        "id": "vfxqcCmUmtl-",
        "colab_type": "code",
        "colab": {
          "base_uri": "https://localhost:8080/",
          "height": 35
        },
        "outputId": "88957050-fbcd-4938-93f4-8a3843efa3bd"
      },
      "source": [
        "!find  '/content/AugmentedGiantSteps/fixed_small'  -name '*.mp3' -exec /content/madmom/bin/TempoDetector batch {} + "
      ],
      "execution_count": null,
      "outputs": [
        {
          "output_type": "stream",
          "text": [
            "time: 4min 27s\n"
          ],
          "name": "stdout"
        }
      ]
    },
    {
      "cell_type": "code",
      "metadata": {
        "id": "_gb-1I7-mxVa",
        "colab_type": "code",
        "colab": {
          "base_uri": "https://localhost:8080/",
          "height": 568
        },
        "outputId": "26dbc51a-81b0-4e2f-a45d-7ecd8c6e3bab"
      },
      "source": [
        "!find '/content/AugmentedGiantSteps/fixed_small'  -name '*.bpm.txt' -printf \"\\n%p\\n\" -exec cat {} \\;"
      ],
      "execution_count": null,
      "outputs": [
        {
          "output_type": "stream",
          "text": [
            "\n",
            "/content/AugmentedGiantSteps/fixed_small/1004923-0.LOFI.bpm.txt\n",
            "125.00\t62.50\t0.50\n",
            "\n",
            "/content/AugmentedGiantSteps/fixed_small/631883-0.LOFI.bpm.txt\n",
            "65.93\t133.33\t0.57\n",
            "\n",
            "/content/AugmentedGiantSteps/fixed_small/1468437-0.LOFI.bpm.txt\n",
            "127.66\t42.25\t0.58\n",
            "\n",
            "/content/AugmentedGiantSteps/fixed_small/1193612-0.LOFI.bpm.txt\n",
            "120.00\t60.00\t0.58\n",
            "\n",
            "/content/AugmentedGiantSteps/fixed_small/1103512-0.LOFI.bpm.txt\n",
            "61.86\t125.00\t0.54\n",
            "\n",
            "/content/AugmentedGiantSteps/fixed_small/61415-0.LOFI.bpm.txt\n",
            "68.97\t136.36\t0.51\n",
            "\n",
            "/content/AugmentedGiantSteps/fixed_small/883724-0.LOFI.bpm.txt\n",
            "62.50\t125.00\t0.50\n",
            "\n",
            "/content/AugmentedGiantSteps/fixed_small/203493-0.LOFI.bpm.txt\n",
            "127.66\t42.86\t0.60\n",
            "\n",
            "/content/AugmentedGiantSteps/fixed_small/847422-0.LOFI.bpm.txt\n",
            "125.00\t63.16\t0.55\n",
            "\n",
            "/content/AugmentedGiantSteps/fixed_small/774875-0.LOFI.bpm.txt\n",
            "120.00\t60.00\t0.61\n",
            "time: 667 ms\n"
          ],
          "name": "stdout"
        }
      ]
    },
    {
      "cell_type": "markdown",
      "metadata": {
        "id": "v4iN6AjKtAtI",
        "colab_type": "text"
      },
      "source": [
        "Testing batch keydetection on 200 files"
      ]
    },
    {
      "cell_type": "code",
      "metadata": {
        "id": "JW1b15pUtAVj",
        "colab_type": "code",
        "colab": {
          "base_uri": "https://localhost:8080/",
          "height": 35
        },
        "outputId": "a58eccda-68e7-40eb-8d4a-7d4c6443dc88"
      },
      "source": [
        "#!find  '/content/madmom/AugmentedGiantSteps/data_200 part 1'  -name '*.mp3' -exec /content/madmom/bin/KeyRecognition batch {} + "
      ],
      "execution_count": null,
      "outputs": [
        {
          "output_type": "stream",
          "text": [
            "time: 1.08 ms\n"
          ],
          "name": "stdout"
        }
      ]
    },
    {
      "cell_type": "code",
      "metadata": {
        "id": "3pV0JskltItS",
        "colab_type": "code",
        "colab": {
          "base_uri": "https://localhost:8080/",
          "height": 52
        },
        "outputId": "8e23e054-90f5-42c8-b2f3-9e0a2392ad73"
      },
      "source": [
        "!find '/content/madmom/AugmentedGiantSteps/data_200 part 1'  -name '*.key.txt' -printf \"\\n%p\\n\" -exec cat {} \\;"
      ],
      "execution_count": null,
      "outputs": [
        {
          "output_type": "stream",
          "text": [
            "find: ‘/content/madmom/AugmentedGiantSteps/data_200 part 1’: No such file or directory\n",
            "time: 822 ms\n"
          ],
          "name": "stdout"
        }
      ]
    },
    {
      "cell_type": "code",
      "metadata": {
        "id": "OTpMuJAEwn1Y",
        "colab_type": "code",
        "colab": {
          "base_uri": "https://localhost:8080/",
          "height": 35
        },
        "outputId": "7451e7b9-a3f9-48d8-c0ee-6b95f75dd7cd"
      },
      "source": [
        "#!find  '/content/madmom/AugmentedGiantSteps/data_200 part 1'  -name '*.mp3' -exec /content/madmom/bin/TempoDetector batch {} + "
      ],
      "execution_count": null,
      "outputs": [
        {
          "output_type": "stream",
          "text": [
            "time: 1.27 ms\n"
          ],
          "name": "stdout"
        }
      ]
    },
    {
      "cell_type": "code",
      "metadata": {
        "id": "6pc4Fah_wtFY",
        "colab_type": "code",
        "colab": {
          "base_uri": "https://localhost:8080/",
          "height": 52
        },
        "outputId": "8c3b9d68-793e-4e54-873b-a2314ff0f8f7"
      },
      "source": [
        "!find '/content/madmom/AugmentedGiantSteps/data_200 part 1'  -name '*.bpm.txt' -printf \"\\n%p\\n\" -exec cat {} \\;"
      ],
      "execution_count": null,
      "outputs": [
        {
          "output_type": "stream",
          "text": [
            "find: ‘/content/madmom/AugmentedGiantSteps/data_200 part 1’: No such file or directory\n",
            "time: 743 ms\n"
          ],
          "name": "stdout"
        }
      ]
    },
    {
      "cell_type": "code",
      "metadata": {
        "id": "sH2VZCx8Xgf8",
        "colab_type": "code",
        "colab": {
          "base_uri": "https://localhost:8080/",
          "height": 106
        },
        "outputId": "377fda89-8f2a-4667-bbd9-450acf760489"
      },
      "source": [
        "!pip install pydub"
      ],
      "execution_count": null,
      "outputs": [
        {
          "output_type": "stream",
          "text": [
            "Collecting pydub\n",
            "  Downloading https://files.pythonhosted.org/packages/7b/d1/fbfa79371a8cd9bb15c2e3c480d7e6e340ed5cc55005174e16f48418333a/pydub-0.24.1-py2.py3-none-any.whl\n",
            "Installing collected packages: pydub\n",
            "Successfully installed pydub-0.24.1\n",
            "time: 3.49 s\n"
          ],
          "name": "stdout"
        }
      ]
    },
    {
      "cell_type": "markdown",
      "metadata": {
        "id": "UdajxnVgWwOD",
        "colab_type": "text"
      },
      "source": [
        "TODO get sliding_window.py working"
      ]
    },
    {
      "cell_type": "code",
      "metadata": {
        "id": "71E6KCaSz60n",
        "colab_type": "code",
        "colab": {
          "base_uri": "https://localhost:8080/",
          "height": 35
        },
        "outputId": "0a4c2253-804f-4ee2-f528-df6c605e3474"
      },
      "source": [
        "from pydub import AudioSegment\n",
        "\n",
        "sound = AudioSegment.from_mp3(\"/content/AugmentedGiantSteps/fixed_small/1004923-0.LOFI.mp3\")\n",
        "\n",
        "#This version is splitting up the song into equal parts\n",
        "#The number of divisions\n",
        "split = 10\n",
        "\n",
        "for i in range(split):\n",
        "  sound[i*1000:(i+1)*1000].export(\"/content/AugmentedGiantSteps/fixed_small/split/1004923-0.LOFI-{}.mp3\".format(i), format=\"mp3\")"
      ],
      "execution_count": 26,
      "outputs": [
        {
          "output_type": "stream",
          "text": [
            "time: 1.79 s\n"
          ],
          "name": "stdout"
        }
      ]
    },
    {
      "cell_type": "code",
      "metadata": {
        "id": "BIMe5NiWsC5U",
        "colab_type": "code",
        "colab": {
          "base_uri": "https://localhost:8080/",
          "height": 35
        },
        "outputId": "ef33c42c-0539-4394-fd6e-0cec23e20c39"
      },
      "source": [
        "from pydub import AudioSegment\n",
        "\n",
        "sound = AudioSegment.from_mp3(\"/content/61415-0.LOFI.mp3\")\n",
        "\n",
        "#This version is splitting up the song based on length\n",
        "\n",
        "#TODO verify that the logic is correct\n",
        "\n",
        "#10 seconds in milliseconds\n",
        "window = 10 * 1000\n",
        "divisions = (len(sound) // window) + 1\n",
        "\n",
        "for i in range(divisions):\n",
        "  sound[i*1000:(i+1)*1000].export(\"/content/61415-0.LOFI-{}.mp3\".format(i), format=\"mp3\")"
      ],
      "execution_count": 28,
      "outputs": [
        {
          "output_type": "stream",
          "text": [
            "time: 2.06 s\n"
          ],
          "name": "stdout"
        }
      ]
    }
  ]
}